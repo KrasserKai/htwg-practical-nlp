{
 "cells": [
  {
   "cell_type": "code",
   "execution_count": 319,
   "metadata": {},
   "outputs": [
    {
     "name": "stdout",
     "output_type": "stream",
     "text": [
      "The autoreload extension is already loaded. To reload it, use:\n",
      "  %reload_ext autoreload\n"
     ]
    }
   ],
   "source": [
    "%load_ext autoreload\n",
    "%autoreload 2"
   ]
  },
  {
   "cell_type": "code",
   "execution_count": 320,
   "metadata": {},
   "outputs": [],
   "source": [
    "TRAINING_SIZE = 10000\n",
    "TRAIN_PERCENT = 0.8\n",
    "VAL_PERCENT = 0.1\n",
    "TEST_PERCENT = 1.0 - TRAIN_PERCENT - VAL_PERCENT\n",
    "BATCH_SIZE = 64\n",
    "MAX_LEN = 128\n",
    "EMBED_DIM = 128\n",
    "LEARNING_RATE = 1e-3\n",
    "EPOCHS = 50\n",
    "PATIENCE = 3\n",
    "RUN_NAME = \"run1\"\n",
    "MODEL_OUTPUT = \"./pytorch_output/\" + RUN_NAME + \".pt\""
   ]
  },
  {
   "cell_type": "code",
   "execution_count": 321,
   "metadata": {},
   "outputs": [],
   "source": [
    "from nltk.corpus import twitter_samples"
   ]
  },
  {
   "cell_type": "code",
   "execution_count": 322,
   "metadata": {},
   "outputs": [
    {
     "name": "stdout",
     "output_type": "stream",
     "text": [
      "Number of positive tweets:  5000\n",
      "Number of negative tweets:  5000\n",
      "Total number of tweets:  10000\n"
     ]
    }
   ],
   "source": [
    "assert TRAINING_SIZE <= 10000\n",
    "postive_tweets = twitter_samples.strings(\"positive_tweets.json\")[\n",
    "    : int(TRAINING_SIZE / 2)\n",
    "]\n",
    "negative_tweets = twitter_samples.strings(\"negative_tweets.json\")[\n",
    "    : int(TRAINING_SIZE / 2)\n",
    "]\n",
    "\n",
    "print(\"Number of positive tweets: \", len(postive_tweets))\n",
    "print(\"Number of negative tweets: \", len(negative_tweets))\n",
    "print(\"Total number of tweets: \", len(postive_tweets) + len(negative_tweets))"
   ]
  },
  {
   "cell_type": "code",
   "execution_count": 323,
   "metadata": {},
   "outputs": [],
   "source": [
    "tweets = postive_tweets + negative_tweets\n",
    "labels = [1] * len(postive_tweets) + [0] * len(negative_tweets)"
   ]
  },
  {
   "cell_type": "code",
   "execution_count": 324,
   "metadata": {},
   "outputs": [
    {
     "data": {
      "text/plain": [
       "(tensor([2, 3, 4, 5, 6, 7, 8, 0, 0, 0, 0, 0, 0, 0, 0, 0, 0, 0, 0, 0, 0, 0, 0, 0,\n",
       "         0, 0, 0, 0, 0, 0, 0, 0, 0, 0, 0, 0, 0, 0, 0, 0, 0, 0, 0, 0, 0, 0, 0, 0,\n",
       "         0, 0, 0, 0, 0, 0, 0, 0, 0, 0, 0, 0, 0, 0, 0, 0, 0, 0, 0, 0, 0, 0, 0, 0,\n",
       "         0, 0, 0, 0, 0, 0, 0, 0, 0, 0, 0, 0, 0, 0, 0, 0, 0, 0, 0, 0, 0, 0, 0, 0,\n",
       "         0, 0, 0, 0, 0, 0, 0, 0, 0, 0, 0, 0, 0, 0, 0, 0, 0, 0, 0, 0, 0, 0, 0, 0,\n",
       "         0, 0, 0, 0, 0, 0, 0, 0]),\n",
       " tensor(1))"
      ]
     },
     "execution_count": 324,
     "metadata": {},
     "output_type": "execute_result"
    }
   ],
   "source": [
    "from htwgnlp.preprocessing import TweetProcessor\n",
    "from pytorch_nlp.dataset import SentimentDataset\n",
    "\n",
    "tweet_processor = TweetProcessor()\n",
    "\n",
    "dataset = SentimentDataset(\n",
    "    tweets=tweets,\n",
    "    labels=labels,\n",
    "    processor=tweet_processor.process_tweet,\n",
    "    max_length=MAX_LEN,\n",
    ")\n",
    "\n",
    "dataset[0]"
   ]
  },
  {
   "cell_type": "code",
   "execution_count": 325,
   "metadata": {},
   "outputs": [
    {
     "name": "stdout",
     "output_type": "stream",
     "text": [
      "Train Size: 8000, Validation Size: 1000, Test Size: 1000\n"
     ]
    }
   ],
   "source": [
    "import torch\n",
    "from torch.utils.data import DataLoader\n",
    "\n",
    "assert TRAIN_PERCENT + VAL_PERCENT + TEST_PERCENT == 1\n",
    "\n",
    "train_size = int(TRAIN_PERCENT * len(dataset))\n",
    "val_size = int(VAL_PERCENT * len(dataset))\n",
    "test_size = len(dataset) - train_size - val_size\n",
    "\n",
    "train_dataset, val_dataset, test_dataset = torch.utils.data.random_split(\n",
    "    dataset, [train_size, val_size, test_size]\n",
    ")\n",
    "\n",
    "print(\n",
    "    f\"Train Size: {len(train_dataset)}, Validation Size: {len(val_dataset)}, Test Size: {len(test_dataset)}\"\n",
    ")\n",
    "\n",
    "train_loader = DataLoader(train_dataset, batch_size=BATCH_SIZE, shuffle=True)\n",
    "val_loader = DataLoader(val_dataset, batch_size=BATCH_SIZE, shuffle=False)\n",
    "test_loader = DataLoader(test_dataset, batch_size=BATCH_SIZE, shuffle=False)"
   ]
  },
  {
   "cell_type": "code",
   "execution_count": 326,
   "metadata": {},
   "outputs": [
    {
     "data": {
      "text/plain": [
       "==========================================================================================\n",
       "Layer (type:depth-idx)                   Output Shape              Param #\n",
       "==========================================================================================\n",
       "SentimentModel                           [64, 1]                   --\n",
       "├─Embedding: 1-1                         [64, 128, 128]            1,344,896\n",
       "├─Linear: 1-2                            [64, 1]                   129\n",
       "├─Sigmoid: 1-3                           [64, 1]                   --\n",
       "==========================================================================================\n",
       "Total params: 1,345,025\n",
       "Trainable params: 1,345,025\n",
       "Non-trainable params: 0\n",
       "Total mult-adds (Units.MEGABYTES): 86.08\n",
       "==========================================================================================\n",
       "Input size (MB): 0.07\n",
       "Forward/backward pass size (MB): 8.39\n",
       "Params size (MB): 5.38\n",
       "Estimated Total Size (MB): 13.83\n",
       "=========================================================================================="
      ]
     },
     "execution_count": 326,
     "metadata": {},
     "output_type": "execute_result"
    }
   ],
   "source": [
    "from pytorch_nlp.model import SentimentModel\n",
    "from torchinfo import summary\n",
    "\n",
    "model = SentimentModel(vocab_size=len(dataset.vocab), embedding_dim=EMBED_DIM)\n",
    "\n",
    "summary(model, input_size=(BATCH_SIZE, MAX_LEN), dtypes=[torch.long])"
   ]
  },
  {
   "cell_type": "code",
   "execution_count": 327,
   "metadata": {},
   "outputs": [
    {
     "data": {
      "text/plain": [
       "SentimentModel(\n",
       "  (embedding): Embedding(10507, 128, padding_idx=0)\n",
       "  (fc): Linear(in_features=128, out_features=1, bias=True)\n",
       "  (sigmoid): Sigmoid()\n",
       ")"
      ]
     },
     "execution_count": 327,
     "metadata": {},
     "output_type": "execute_result"
    }
   ],
   "source": [
    "device = torch.device(\"cuda\" if torch.cuda.is_available() else \"cpu\")\n",
    "model.to(device)"
   ]
  },
  {
   "cell_type": "code",
   "execution_count": 328,
   "metadata": {},
   "outputs": [
    {
     "name": "stdout",
     "output_type": "stream",
     "text": [
      "Epoch [1/50]\n",
      "  Train Loss: 0.6777\n",
      "  Val Loss:   0.6590\n",
      "  Val Acc:    0.9320\n",
      "  Validation loss improved. Model saved!\n",
      "Epoch [2/50]\n",
      "  Train Loss: 0.6279\n",
      "  Val Loss:   0.5963\n",
      "  Val Acc:    0.9770\n",
      "  Validation loss improved. Model saved!\n",
      "Epoch [3/50]\n",
      "  Train Loss: 0.5470\n",
      "  Val Loss:   0.5076\n",
      "  Val Acc:    0.9860\n",
      "  Validation loss improved. Model saved!\n",
      "Epoch [4/50]\n",
      "  Train Loss: 0.4477\n",
      "  Val Loss:   0.4119\n",
      "  Val Acc:    0.9950\n",
      "  Validation loss improved. Model saved!\n",
      "Epoch [5/50]\n",
      "  Train Loss: 0.3514\n",
      "  Val Loss:   0.3263\n",
      "  Val Acc:    0.9970\n",
      "  Validation loss improved. Model saved!\n",
      "Epoch [6/50]\n",
      "  Train Loss: 0.2708\n",
      "  Val Loss:   0.2574\n",
      "  Val Acc:    0.9980\n",
      "  Validation loss improved. Model saved!\n",
      "Epoch [7/50]\n",
      "  Train Loss: 0.2085\n",
      "  Val Loss:   0.2043\n",
      "  Val Acc:    0.9980\n",
      "  Validation loss improved. Model saved!\n",
      "Epoch [8/50]\n",
      "  Train Loss: 0.1620\n",
      "  Val Loss:   0.1642\n",
      "  Val Acc:    0.9980\n",
      "  Validation loss improved. Model saved!\n",
      "Epoch [9/50]\n",
      "  Train Loss: 0.1275\n",
      "  Val Loss:   0.1338\n",
      "  Val Acc:    0.9980\n",
      "  Validation loss improved. Model saved!\n",
      "Epoch [10/50]\n",
      "  Train Loss: 0.1017\n",
      "  Val Loss:   0.1105\n",
      "  Val Acc:    0.9990\n",
      "  Validation loss improved. Model saved!\n",
      "Epoch [11/50]\n",
      "  Train Loss: 0.0823\n",
      "  Val Loss:   0.0924\n",
      "  Val Acc:    0.9990\n",
      "  Validation loss improved. Model saved!\n",
      "Epoch [12/50]\n",
      "  Train Loss: 0.0675\n",
      "  Val Loss:   0.0782\n",
      "  Val Acc:    0.9990\n",
      "  Validation loss improved. Model saved!\n",
      "Epoch [13/50]\n",
      "  Train Loss: 0.0561\n",
      "  Val Loss:   0.0670\n",
      "  Val Acc:    0.9990\n",
      "  Validation loss improved. Model saved!\n",
      "Epoch [14/50]\n",
      "  Train Loss: 0.0471\n",
      "  Val Loss:   0.0579\n",
      "  Val Acc:    0.9990\n",
      "  Validation loss improved. Model saved!\n",
      "Epoch [15/50]\n",
      "  Train Loss: 0.0399\n",
      "  Val Loss:   0.0505\n",
      "  Val Acc:    0.9990\n",
      "  Validation loss improved. Model saved!\n",
      "Epoch [16/50]\n",
      "  Train Loss: 0.0342\n",
      "  Val Loss:   0.0445\n",
      "  Val Acc:    0.9990\n",
      "  Validation loss improved. Model saved!\n",
      "Epoch [17/50]\n",
      "  Train Loss: 0.0295\n",
      "  Val Loss:   0.0394\n",
      "  Val Acc:    0.9990\n",
      "  Validation loss improved. Model saved!\n",
      "Epoch [18/50]\n",
      "  Train Loss: 0.0256\n",
      "  Val Loss:   0.0352\n",
      "  Val Acc:    0.9990\n",
      "  Validation loss improved. Model saved!\n",
      "Epoch [19/50]\n",
      "  Train Loss: 0.0225\n",
      "  Val Loss:   0.0316\n",
      "  Val Acc:    0.9990\n",
      "  Validation loss improved. Model saved!\n",
      "Epoch [20/50]\n",
      "  Train Loss: 0.0198\n",
      "  Val Loss:   0.0285\n",
      "  Val Acc:    0.9990\n",
      "  Validation loss improved. Model saved!\n",
      "Epoch [21/50]\n",
      "  Train Loss: 0.0175\n",
      "  Val Loss:   0.0259\n",
      "  Val Acc:    0.9990\n",
      "  Validation loss improved. Model saved!\n",
      "Epoch [22/50]\n",
      "  Train Loss: 0.0156\n",
      "  Val Loss:   0.0236\n",
      "  Val Acc:    0.9990\n",
      "  Validation loss improved. Model saved!\n",
      "Epoch [23/50]\n",
      "  Train Loss: 0.0140\n",
      "  Val Loss:   0.0217\n",
      "  Val Acc:    0.9990\n",
      "  Validation loss improved. Model saved!\n",
      "Epoch [24/50]\n",
      "  Train Loss: 0.0126\n",
      "  Val Loss:   0.0199\n",
      "  Val Acc:    0.9990\n",
      "  Validation loss improved. Model saved!\n",
      "Epoch [25/50]\n",
      "  Train Loss: 0.0114\n",
      "  Val Loss:   0.0185\n",
      "  Val Acc:    0.9990\n",
      "  Validation loss improved. Model saved!\n",
      "Epoch [26/50]\n",
      "  Train Loss: 0.0103\n",
      "  Val Loss:   0.0171\n",
      "  Val Acc:    0.9990\n",
      "  Validation loss improved. Model saved!\n",
      "Epoch [27/50]\n",
      "  Train Loss: 0.0094\n",
      "  Val Loss:   0.0159\n",
      "  Val Acc:    0.9990\n",
      "  Validation loss improved. Model saved!\n",
      "Epoch [28/50]\n",
      "  Train Loss: 0.0086\n",
      "  Val Loss:   0.0149\n",
      "  Val Acc:    0.9990\n",
      "  Validation loss improved. Model saved!\n",
      "Epoch [29/50]\n",
      "  Train Loss: 0.0078\n",
      "  Val Loss:   0.0139\n",
      "  Val Acc:    0.9990\n",
      "  Validation loss improved. Model saved!\n",
      "Epoch [30/50]\n",
      "  Train Loss: 0.0072\n",
      "  Val Loss:   0.0131\n",
      "  Val Acc:    0.9990\n",
      "  Validation loss improved. Model saved!\n",
      "Epoch [31/50]\n",
      "  Train Loss: 0.0066\n",
      "  Val Loss:   0.0123\n",
      "  Val Acc:    0.9990\n",
      "  Validation loss improved. Model saved!\n",
      "Epoch [32/50]\n",
      "  Train Loss: 0.0061\n",
      "  Val Loss:   0.0116\n",
      "  Val Acc:    0.9990\n",
      "  Validation loss improved. Model saved!\n",
      "Epoch [33/50]\n",
      "  Train Loss: 0.0057\n",
      "  Val Loss:   0.0110\n",
      "  Val Acc:    0.9990\n",
      "  Validation loss improved. Model saved!\n",
      "Epoch [34/50]\n",
      "  Train Loss: 0.0053\n",
      "  Val Loss:   0.0104\n",
      "  Val Acc:    0.9990\n",
      "  Validation loss improved. Model saved!\n",
      "Epoch [35/50]\n",
      "  Train Loss: 0.0049\n",
      "  Val Loss:   0.0099\n",
      "  Val Acc:    0.9990\n",
      "  Validation loss improved. Model saved!\n",
      "Epoch [36/50]\n",
      "  Train Loss: 0.0046\n",
      "  Val Loss:   0.0095\n",
      "  Val Acc:    0.9990\n",
      "  Validation loss improved. Model saved!\n",
      "Epoch [37/50]\n",
      "  Train Loss: 0.0043\n",
      "  Val Loss:   0.0090\n",
      "  Val Acc:    0.9990\n",
      "  Validation loss improved. Model saved!\n",
      "Epoch [38/50]\n",
      "  Train Loss: 0.0040\n",
      "  Val Loss:   0.0087\n",
      "  Val Acc:    0.9990\n",
      "  Validation loss improved. Model saved!\n",
      "Epoch [39/50]\n",
      "  Train Loss: 0.0037\n",
      "  Val Loss:   0.0083\n",
      "  Val Acc:    0.9990\n",
      "  Validation loss improved. Model saved!\n",
      "Epoch [40/50]\n",
      "  Train Loss: 0.0035\n",
      "  Val Loss:   0.0080\n",
      "  Val Acc:    0.9990\n",
      "  Validation loss improved. Model saved!\n",
      "Epoch [41/50]\n",
      "  Train Loss: 0.0033\n",
      "  Val Loss:   0.0077\n",
      "  Val Acc:    0.9990\n",
      "  Validation loss improved. Model saved!\n",
      "Epoch [42/50]\n",
      "  Train Loss: 0.0031\n",
      "  Val Loss:   0.0074\n",
      "  Val Acc:    0.9990\n",
      "  Validation loss improved. Model saved!\n",
      "Epoch [43/50]\n",
      "  Train Loss: 0.0029\n",
      "  Val Loss:   0.0072\n",
      "  Val Acc:    0.9990\n",
      "  Validation loss improved. Model saved!\n",
      "Epoch [44/50]\n",
      "  Train Loss: 0.0028\n",
      "  Val Loss:   0.0069\n",
      "  Val Acc:    0.9990\n",
      "  Validation loss improved. Model saved!\n",
      "Epoch [45/50]\n",
      "  Train Loss: 0.0026\n",
      "  Val Loss:   0.0067\n",
      "  Val Acc:    0.9990\n",
      "  Validation loss improved. Model saved!\n",
      "Epoch [46/50]\n",
      "  Train Loss: 0.0025\n",
      "  Val Loss:   0.0065\n",
      "  Val Acc:    0.9990\n",
      "  Validation loss improved. Model saved!\n",
      "Epoch [47/50]\n",
      "  Train Loss: 0.0024\n",
      "  Val Loss:   0.0063\n",
      "  Val Acc:    0.9990\n",
      "  Validation loss improved. Model saved!\n",
      "Epoch [48/50]\n",
      "  Train Loss: 0.0022\n",
      "  Val Loss:   0.0062\n",
      "  Val Acc:    0.9990\n",
      "  Validation loss improved. Model saved!\n",
      "Epoch [49/50]\n",
      "  Train Loss: 0.0021\n",
      "  Val Loss:   0.0060\n",
      "  Val Acc:    0.9990\n",
      "  Validation loss improved. Model saved!\n",
      "Epoch [50/50]\n",
      "  Train Loss: 0.0020\n",
      "  Val Loss:   0.0059\n",
      "  Val Acc:    0.9990\n",
      "  Validation loss improved. Model saved!\n",
      "Best model loaded!\n"
     ]
    }
   ],
   "source": [
    "import torch.nn as nn\n",
    "import torch.optim as optim\n",
    "from pytorch_nlp.train import train_model\n",
    "\n",
    "criterion = nn.BCELoss()  # Binary cross-entropy loss for binary classification\n",
    "optimizer = optim.Adam(model.parameters(), lr=LEARNING_RATE)\n",
    "\n",
    "train_losses, val_losses, val_accuracies = train_model(\n",
    "    model=model,\n",
    "    train_loader=train_loader,\n",
    "    val_loader=val_loader,\n",
    "    criterion=criterion,\n",
    "    optimizer=optimizer,\n",
    "    device=device,\n",
    "    num_epochs=EPOCHS,\n",
    "    early_stopping=True,\n",
    "    patience=5,\n",
    "    model_output=MODEL_OUTPUT,\n",
    ")"
   ]
  },
  {
   "cell_type": "code",
   "execution_count": 329,
   "metadata": {},
   "outputs": [
    {
     "data": {
      "image/png": "[encoded data removed]",
      "text/plain": [
       "<Figure size 640x480 with 1 Axes>"
      ]
     },
     "metadata": {},
     "output_type": "display_data"
    },
    {
     "data": {
      "image/png": "[encoded data removed]",
      "text/plain": [
       "<Figure size 640x480 with 1 Axes>"
      ]
     },
     "metadata": {},
     "output_type": "display_data"
    }
   ],
   "source": [
    "# Visualize the training history (example with matplotlib)\n",
    "import matplotlib.pyplot as plt\n",
    "\n",
    "# Plot training loss and validation loss\n",
    "plt.plot(train_losses, label=\"Train Loss\")\n",
    "plt.plot(val_losses, label=\"Validation Loss\")\n",
    "plt.xlabel(\"Epoch\")\n",
    "plt.ylabel(\"Loss\")\n",
    "plt.legend()\n",
    "plt.title(\"Train Loss vs Validation Loss\")\n",
    "plt.show()\n",
    "\n",
    "# Plot validation accuracy\n",
    "plt.plot(val_accuracies, label=\"Validation Accuracy\", color=\"green\")\n",
    "plt.xlabel(\"Epoch\")\n",
    "plt.ylabel(\"Accuracy\")\n",
    "plt.legend()\n",
    "plt.title(\"Validation Accuracy Over Epochs\")\n",
    "plt.show()"
   ]
  },
  {
   "cell_type": "code",
   "execution_count": 338,
   "metadata": {},
   "outputs": [
    {
     "name": "stdout",
     "output_type": "stream",
     "text": [
      "Test Accuracy: 0.9990\n",
      "Test Loss: 0.0083\n",
      "Correctly classified samples: 999\n",
      "Wrongly classified samples: 1\n"
     ]
    }
   ],
   "source": [
    "from pytorch_nlp.evaluate import evaluate_model\n",
    "\n",
    "accuracy, avg_loss = evaluate_model(\n",
    "    model=model,\n",
    "    test_loader=test_loader,\n",
    "    criterion=criterion,\n",
    "    device=device,\n",
    ")"
   ]
  }
 ],
 "metadata": {
  "kernelspec": {
   "display_name": ".venv",
   "language": "python",
   "name": "python3"
  },
  "language_info": {
   "codemirror_mode": {
    "name": "ipython",
    "version": 3
   },
   "file_extension": ".py",
   "mimetype": "text/x-python",
   "name": "python",
   "nbconvert_exporter": "python",
   "pygments_lexer": "ipython3",
   "version": "3.12.3"
  }
 },
 "nbformat": 4,
 "nbformat_minor": 2
}

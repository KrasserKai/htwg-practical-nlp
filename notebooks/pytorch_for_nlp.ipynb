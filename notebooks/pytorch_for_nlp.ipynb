{
 "cells": [
  {
   "cell_type": "markdown",
   "metadata": {},
   "source": [
    "# PyTorch for NLP\n",
    "\n",
    "## Was ist PyTorch?\n",
    "\n",
    "**PyTorch** ist eine leistungsstarke und flexible Open-Source-Bibliothek für maschinelles Lernen, die vor allem für die Entwicklung und das Training von **Neuralen Netzen** entwickelt wurde. Sie wurde von **Facebook's AI Research lab (FAIR)** entwickelt und hat sich schnell als eine der beliebtesten Bibliotheken für Deep Learning etabliert.\n",
    "\n",
    "Mit PyTorch ist es einfach verschiedene Modell Architekturen aufzubauen. Ebenso bietet es verschiedene Möglichkeiten Daten auf einfache weise einzulesen und zu verarbeiten. Damit ist es gut geeignet für moderne Deep Learning Anwendungen."
   ]
  },
  {
   "cell_type": "code",
   "execution_count": 14,
   "metadata": {},
   "outputs": [
    {
     "name": "stdout",
     "output_type": "stream",
     "text": [
      "The autoreload extension is already loaded. To reload it, use:\n",
      "  %reload_ext autoreload\n"
     ]
    }
   ],
   "source": [
    "%load_ext autoreload\n",
    "%autoreload 2"
   ]
  },
  {
   "cell_type": "markdown",
   "metadata": {},
   "source": [
    "## Praktisches Beispiel\n",
    "\n",
    "In diesem praktischen Beispiel werde ich PyTorch anhand einer **Sentimentanalyse** auf Tweets vorstellen. Ich habe ein Modell entwickelt, das erkennt, ob ein Tweet **positiv** oder **negativ** ist. Dabei werde ich die gesamte **Pipeline** durchgehen – vom **Einlesen der Daten**, über das **Erstellen und Trainieren des Modells** bis hin zum **Evaluieren** der Ergebnisse. "
   ]
  },
  {
   "cell_type": "markdown",
   "metadata": {},
   "source": [
    "## Trainingsparameter\n",
    "\n",
    "Zunächst definiere ich einige Parameter welche später für das Training gebraucht werden. Ebenfalls wird ein **Seed** gesetzt, um die Ergebnisse reproduzierbar zu machen."
   ]
  },
  {
   "cell_type": "code",
   "execution_count": 15,
   "metadata": {},
   "outputs": [
    {
     "data": {
      "text/plain": [
       "<torch._C.Generator at 0x7fdfe40104d0>"
      ]
     },
     "execution_count": 15,
     "metadata": {},
     "output_type": "execute_result"
    }
   ],
   "source": [
    "import torch\n",
    "\n",
    "TRAINING_SIZE = 10000\n",
    "TRAIN_PERCENT = 0.8\n",
    "VAL_PERCENT = 0.1\n",
    "TEST_PERCENT = 1.0 - TRAIN_PERCENT - VAL_PERCENT\n",
    "BATCH_SIZE = 64\n",
    "MAX_LEN = 128\n",
    "EMBED_DIM = 128\n",
    "LEARNING_RATE = 1e-3\n",
    "EPOCHS = 50\n",
    "PATIENCE = 3\n",
    "RUN_NAME = \"run1\"\n",
    "OUTPUT = \"./pytorch_output\"\n",
    "TRAIN_MODEL = False\n",
    "SEED = 0\n",
    "\n",
    "torch.manual_seed(SEED)"
   ]
  },
  {
   "cell_type": "markdown",
   "metadata": {},
   "source": [
    "## Datenbeschaffung\n",
    "\n",
    "Als Datensatz nehme ich wie in den Assignments den NLTK Twitter Datensatz. Diese lese ich zunächst ein und generiere Labels für sie, basierend darauf ob sie positiv oder negativ sind."
   ]
  },
  {
   "cell_type": "code",
   "execution_count": 16,
   "metadata": {},
   "outputs": [],
   "source": [
    "from nltk.corpus import twitter_samples"
   ]
  },
  {
   "cell_type": "code",
   "execution_count": 17,
   "metadata": {},
   "outputs": [
    {
     "name": "stdout",
     "output_type": "stream",
     "text": [
      "Number of positive tweets:  5000\n",
      "Number of negative tweets:  5000\n",
      "Total number of tweets:  10000\n"
     ]
    }
   ],
   "source": [
    "assert TRAINING_SIZE <= 10000\n",
    "postive_tweets = twitter_samples.strings(\"positive_tweets.json\")[\n",
    "    : int(TRAINING_SIZE / 2)\n",
    "]\n",
    "negative_tweets = twitter_samples.strings(\"negative_tweets.json\")[\n",
    "    : int(TRAINING_SIZE / 2)\n",
    "]\n",
    "\n",
    "print(\"Number of positive tweets: \", len(postive_tweets))\n",
    "print(\"Number of negative tweets: \", len(negative_tweets))\n",
    "print(\"Total number of tweets: \", len(postive_tweets) + len(negative_tweets))"
   ]
  },
  {
   "cell_type": "code",
   "execution_count": 18,
   "metadata": {},
   "outputs": [],
   "source": [
    "tweets = postive_tweets + negative_tweets\n",
    "labels = [1] * len(postive_tweets) + [0] * len(negative_tweets)"
   ]
  },
  {
   "cell_type": "markdown",
   "metadata": {},
   "source": [
    "## PyTorch Dataset\n",
    "\n",
    "Als ersten zentralen Punkt von PyTorch zeige ich ein **PyTorch Dataset**. Diese werden verwendet, um Daten effizient einzulesen und zu verarbeiten. Ein Dataset in PyTorch ermöglicht es, Daten flexibel zu handhaben und in Batches zu laden, was beim Training von Deep Learning-Modellen sehr wichtig ist.\n",
    "\n",
    "Ein **Dataset** ist in PyTorch eine abstrakte Klasse, die eine Schnittstelle für das Laden von Daten darstellt. Du kannst deine eigenen Datasets erstellen, indem du die Klasse `torch.utils.data.Dataset` erweiterst.\n",
    "\n",
    "#### Grundlegende Struktur eines PyTorch Datasets\n",
    "\n",
    "Damit eine Klasse eine Subklasse eines PyTorch **`Dataset`** sein kann, muss sie zwei wesentliche Methoden implementieren:\n",
    "\n",
    "1. **`__len__`**: Gibt die Anzahl der Samples im Dataset zurück.\n",
    "2. **`__getitem__`**: Gibt ein Sample des Datasets zurück, das als `input` und `label` für das Modell verwendet werden kann.\n"
   ]
  },
  {
   "cell_type": "code",
   "execution_count": 19,
   "metadata": {},
   "outputs": [
    {
     "data": {
      "text/plain": [
       "(tensor([381, 382, 383,  74,   0,   0,   0,   0,   0,   0,   0,   0,   0,   0,\n",
       "           0,   0,   0,   0,   0,   0,   0,   0,   0,   0,   0,   0,   0,   0,\n",
       "           0,   0,   0,   0,   0,   0,   0,   0,   0,   0,   0,   0,   0,   0,\n",
       "           0,   0,   0,   0,   0,   0,   0,   0,   0,   0,   0,   0,   0,   0,\n",
       "           0,   0,   0,   0,   0,   0,   0,   0,   0,   0,   0,   0,   0,   0,\n",
       "           0,   0,   0,   0,   0,   0,   0,   0,   0,   0,   0,   0,   0,   0,\n",
       "           0,   0,   0,   0,   0,   0,   0,   0,   0,   0,   0,   0,   0,   0,\n",
       "           0,   0,   0,   0,   0,   0,   0,   0,   0,   0,   0,   0,   0,   0,\n",
       "           0,   0,   0,   0,   0,   0,   0,   0,   0,   0,   0,   0,   0,   0,\n",
       "           0,   0]),\n",
       " tensor(1))"
      ]
     },
     "execution_count": 19,
     "metadata": {},
     "output_type": "execute_result"
    }
   ],
   "source": [
    "from htwgnlp.preprocessing import TweetProcessor\n",
    "from pytorch_nlp.dataset import SentimentDataset\n",
    "\n",
    "tweet_processor = TweetProcessor()\n",
    "\n",
    "dataset = SentimentDataset(\n",
    "    tweets=tweets,\n",
    "    labels=labels,\n",
    "    processor=tweet_processor.process_tweet,\n",
    "    max_length=MAX_LEN,\n",
    ")\n",
    "\n",
    "dataset[100]"
   ]
  },
  {
   "cell_type": "markdown",
   "metadata": {},
   "source": [
    "Der Datensatz wird anschließend in Trainings-, Validierungs- und Testdatensatz aufgeteilt."
   ]
  },
  {
   "cell_type": "code",
   "execution_count": 20,
   "metadata": {},
   "outputs": [
    {
     "name": "stdout",
     "output_type": "stream",
     "text": [
      "Train Size: 8000, Validation Size: 1000, Test Size: 1000\n"
     ]
    }
   ],
   "source": [
    "assert TRAIN_PERCENT + VAL_PERCENT + TEST_PERCENT == 1\n",
    "\n",
    "train_size = int(TRAIN_PERCENT * len(dataset))\n",
    "val_size = int(VAL_PERCENT * len(dataset))\n",
    "test_size = len(dataset) - train_size - val_size\n",
    "\n",
    "train_dataset, val_dataset, test_dataset = torch.utils.data.random_split(\n",
    "    dataset, [train_size, val_size, test_size]\n",
    ")\n",
    "\n",
    "print(\n",
    "    f\"Train Size: {len(train_dataset)}, Validation Size: {len(val_dataset)}, Test Size: {len(test_dataset)}\"\n",
    ")"
   ]
  },
  {
   "cell_type": "markdown",
   "metadata": {},
   "source": [
    "## PyTorch DataLoader\n",
    "\n",
    "Der **`DataLoader`** in PyTorch ist eine Klasse, die das Laden von Daten aus einem Dataset erleichtert. Er übernimmt das Aufteilen der Daten in **Batches**, das **Shuffeln** der Daten und bietet die Möglichkeit, die Daten auf mehrere **Prozesse** zu verteilen, um die Datenvorbereitung während des Trainings zu beschleunigen. Der `DataLoader` wird häufig zusammen mit der `Dataset`-Klasse verwendet, die die Datenstruktur und das Abrufen einzelner Samples definiert.\n",
    "\n",
    "### Hauptfunktionen des `DataLoader`:\n",
    "\n",
    "- **Batches**: Teilt die Daten in Batches auf, die für das Training verwendet werden.\n",
    "- **Shuffling**: Mischen der Daten, um die Reihenfolge der Trainingsbeispiele zufällig zu machen, was das Modell robuster gegen Überanpassung macht.\n",
    "- **Parallelisierung**: Ermöglicht das Laden von Daten mit mehreren Prozessen, was die Ladegeschwindigkeit bei großen Datensätzen verbessert."
   ]
  },
  {
   "cell_type": "code",
   "execution_count": 21,
   "metadata": {},
   "outputs": [],
   "source": [
    "from torch.utils.data import DataLoader\n",
    "\n",
    "train_loader = DataLoader(train_dataset, batch_size=BATCH_SIZE, shuffle=True)\n",
    "val_loader = DataLoader(val_dataset, batch_size=BATCH_SIZE, shuffle=False)\n",
    "test_loader = DataLoader(test_dataset, batch_size=BATCH_SIZE, shuffle=False)"
   ]
  },
  {
   "cell_type": "markdown",
   "metadata": {},
   "source": [
    "## PyTorch Model\n",
    "\n",
    "In PyTorch bezeichnet das **Model** die Architektur eines neuronalen Netzwerks, die als Subklasse der `torch.nn.Module`-Klasse erstellt wird. Ein Modell in PyTorch besteht aus verschiedenen **Schichten** (z. B. `Linear`, `Conv2d`, `RNN`), die in der `__init__`-Methode definiert werden, und einer **Vorwärtsmethode (`forward`)**, die die Eingabedaten durch das Netzwerk leitet.\n",
    "\n",
    "Das Modell wird verwendet, um Eingabedaten zu transformieren und Vorhersagen zu treffen. Es wird mit den **Trainingsdaten** trainiert und mit den **Validierungsdaten** validiert. Durch den Aufruf von `model.train()` wird das Modell in den Trainingsmodus versetzt, während es mit `model.eval()` in den Evaluierungsmodus wechselt, um Verhalten wie Dropout zu deaktivieren.\n",
    "\n",
    "Das Modell enthält auch die **Gewichte** (Parameter), die während des Trainings aktualisiert werden, und diese werden mithilfe von Optimierern wie **Adam** oder **SGD** optimiert."
   ]
  },
  {
   "cell_type": "code",
   "execution_count": 22,
   "metadata": {},
   "outputs": [
    {
     "name": "stdout",
     "output_type": "stream",
     "text": [
      "SentimentModel(\n",
      "  (embedding): Embedding(10507, 128, padding_idx=0)\n",
      "  (fc): Linear(in_features=128, out_features=1, bias=True)\n",
      "  (sigmoid): Sigmoid()\n",
      ")\n"
     ]
    }
   ],
   "source": [
    "from pytorch_nlp.model import SentimentModel\n",
    "\n",
    "model = SentimentModel(vocab_size=len(dataset.vocab), embedding_dim=EMBED_DIM)\n",
    "\n",
    "print(model)"
   ]
  },
  {
   "cell_type": "markdown",
   "metadata": {},
   "source": [
    "## GPU-Unterstützung\n",
    "\n",
    "Pytorch bietet einfache Möglichkeiten, um Berechnungen auf einer **GPU** durchzuführen. Dies kann die Trainingsgeschwindigkeit erheblich verbessern."
   ]
  },
  {
   "cell_type": "code",
   "execution_count": 23,
   "metadata": {},
   "outputs": [
    {
     "data": {
      "text/plain": [
       "SentimentModel(\n",
       "  (embedding): Embedding(10507, 128, padding_idx=0)\n",
       "  (fc): Linear(in_features=128, out_features=1, bias=True)\n",
       "  (sigmoid): Sigmoid()\n",
       ")"
      ]
     },
     "execution_count": 23,
     "metadata": {},
     "output_type": "execute_result"
    }
   ],
   "source": [
    "device = torch.device(\"cuda\" if torch.cuda.is_available() else \"cpu\")\n",
    "model.to(device)"
   ]
  },
  {
   "cell_type": "markdown",
   "metadata": {},
   "source": [
    "## Trainings Loop\n",
    "\n",
    "Der Trainingsloop ist der Kern des Trainingsprozesses. Dabei werden die Trainingsdaten in Batches geladen, durch das Modell geleitet, die Vorhersagen mit den Labels verglichen und der Fehler berechnet. Anschließend wird der Fehler zurückpropagiert, um die Gewichte des Modells zu aktualisieren. Dieser Prozess wird über mehrere **Epochen** wiederholt, bis das Modell konvergiert."
   ]
  },
  {
   "cell_type": "code",
   "execution_count": 24,
   "metadata": {},
   "outputs": [
    {
     "name": "stdout",
     "output_type": "stream",
     "text": [
      "Metrics loaded from ././pytorch_output/run1.csv\n"
     ]
    }
   ],
   "source": [
    "import torch.nn as nn\n",
    "import torch.optim as optim\n",
    "from pytorch_nlp.train import train_model, load_metrics\n",
    "\n",
    "criterion = nn.BCELoss()  # Binary cross-entropy loss for binary classification\n",
    "optimizer = optim.Adam(model.parameters(), lr=LEARNING_RATE)\n",
    "\n",
    "if TRAIN_MODEL:\n",
    "    train_losses, val_losses, val_accuracies = train_model(\n",
    "        model=model,\n",
    "        train_loader=train_loader,\n",
    "        val_loader=val_loader,\n",
    "        criterion=criterion,\n",
    "        optimizer=optimizer,\n",
    "        device=device,\n",
    "        num_epochs=EPOCHS,\n",
    "        early_stopping=True,\n",
    "        patience=5,\n",
    "        output=OUTPUT,\n",
    "        run_name=RUN_NAME,\n",
    "    )\n",
    "else:\n",
    "    epochs, train_losses, val_losses, val_accuracies = load_metrics(\n",
    "        f\"./{OUTPUT}/{RUN_NAME}.csv\"\n",
    "    )"
   ]
  },
  {
   "cell_type": "markdown",
   "metadata": {},
   "source": [
    "Speichert man sich die Historie des Trainingsverlaufs (Loss, Accuracy etc.) kann man später den Verlauf des Trainings analysieren und visualisieren."
   ]
  },
  {
   "cell_type": "code",
   "execution_count": 25,
   "metadata": {},
   "outputs": [
    {
     "data": {
      "image/png": "[encoded data removed]",
      "text/plain": [
       "<Figure size 640x480 with 1 Axes>"
      ]
     },
     "metadata": {},
     "output_type": "display_data"
    },
    {
     "data": {
      "image/png": "[encoded data removed]",
      "text/plain": [
       "<Figure size 640x480 with 1 Axes>"
      ]
     },
     "metadata": {},
     "output_type": "display_data"
    }
   ],
   "source": [
    "# Visualize the training history (example with matplotlib)\n",
    "import matplotlib.pyplot as plt\n",
    "\n",
    "# Plot training loss and validation loss\n",
    "plt.plot(train_losses, label=\"Train Loss\")\n",
    "plt.plot(val_losses, label=\"Validation Loss\")\n",
    "plt.xlabel(\"Epoch\")\n",
    "plt.ylabel(\"Loss\")\n",
    "plt.legend()\n",
    "plt.title(\"Train Loss vs Validation Loss\")\n",
    "plt.show()\n",
    "\n",
    "# Plot validation accuracy\n",
    "plt.plot(val_accuracies, label=\"Validation Accuracy\", color=\"green\")\n",
    "plt.xlabel(\"Epoch\")\n",
    "plt.ylabel(\"Accuracy\")\n",
    "plt.legend()\n",
    "plt.title(\"Validation Accuracy Over Epochs\")\n",
    "plt.show()"
   ]
  },
  {
   "cell_type": "markdown",
   "metadata": {},
   "source": [
    "## Evaluierung\n",
    "\n",
    "Nach dem Training wird das Modell mit den **Testdaten** evaluiert, um die **Genauigkeit** und **Leistung** des Modells zu bewerten. Die Genauigkeit wird als **Accuracy** berechnet, die die Anzahl der korrekten Vorhersagen durch die Gesamtanzahl der Vorhersagen teilt."
   ]
  },
  {
   "cell_type": "code",
   "execution_count": 26,
   "metadata": {},
   "outputs": [
    {
     "name": "stdout",
     "output_type": "stream",
     "text": [
      "Loading model from disk...\n",
      "Test Accuracy: 0.9910\n",
      "Test Loss: 0.1002\n",
      "Correctly classified samples: 991\n",
      "Wrongly classified samples: 9\n"
     ]
    }
   ],
   "source": [
    "from pytorch_nlp.evaluate import evaluate_model\n",
    "\n",
    "if not TRAIN_MODEL:\n",
    "    print(\"Loading model from disk...\")\n",
    "    model.load_state_dict(torch.load(f\"./{OUTPUT}/{RUN_NAME}.pt\", weights_only=True))\n",
    "\n",
    "accuracy, avg_loss = evaluate_model(\n",
    "    model=model,\n",
    "    test_loader=test_loader,\n",
    "    criterion=criterion,\n",
    "    device=device,\n",
    ")"
   ]
  }
 ],
 "metadata": {
  "kernelspec": {
   "display_name": ".venv",
   "language": "python",
   "name": "python3"
  },
  "language_info": {
   "codemirror_mode": {
    "name": "ipython",
    "version": 3
   },
   "file_extension": ".py",
   "mimetype": "text/x-python",
   "name": "python",
   "nbconvert_exporter": "python",
   "pygments_lexer": "ipython3",
   "version": "3.12.3"
  }
 },
 "nbformat": 4,
 "nbformat_minor": 2
}
